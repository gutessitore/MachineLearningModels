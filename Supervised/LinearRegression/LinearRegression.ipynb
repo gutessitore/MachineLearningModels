{
 "cells": [
  {
   "cell_type": "markdown",
   "source": [
    "# Creating a Linear Regression Model\n",
    "\n",
    "\n",
    "The objective of this project is to create a linear regression model to predict the price of used cars."
   ],
   "metadata": {
    "collapsed": false,
    "pycharm": {
     "name": "#%% md\n"
    }
   }
  },
  {
   "cell_type": "code",
   "execution_count": 163,
   "outputs": [],
   "source": [
    "from sklearn.linear_model import LinearRegression\n",
    "import pandas as pd\n",
    "import numpy as np\n",
    "import re"
   ],
   "metadata": {
    "collapsed": false,
    "pycharm": {
     "name": "#%%\n"
    }
   }
  },
  {
   "cell_type": "code",
   "execution_count": 164,
   "outputs": [
    {
     "data": {
      "text/plain": "                           name  year  selling_price  km_driven    fuel  \\\n0        Maruti Swift Dzire VDI  2014         450000     145500  Diesel   \n1  Skoda Rapid 1.5 TDI Ambition  2014         370000     120000  Diesel   \n2      Honda City 2017-2020 EXi  2006         158000     140000  Petrol   \n3     Hyundai i20 Sportz Diesel  2010         225000     127000  Diesel   \n4        Maruti Swift VXI BSIII  2007         130000     120000  Petrol   \n\n  seller_type transmission         owner     mileage   engine   max_power  \\\n0  Individual       Manual   First Owner   23.4 kmpl  1248 CC      74 bhp   \n1  Individual       Manual  Second Owner  21.14 kmpl  1498 CC  103.52 bhp   \n2  Individual       Manual   Third Owner   17.7 kmpl  1497 CC      78 bhp   \n3  Individual       Manual   First Owner   23.0 kmpl  1396 CC      90 bhp   \n4  Individual       Manual   First Owner   16.1 kmpl  1298 CC    88.2 bhp   \n\n                     torque  seats  \n0            190Nm@ 2000rpm    5.0  \n1       250Nm@ 1500-2500rpm    5.0  \n2     12.7@ 2,700(kgm@ rpm)    5.0  \n3  22.4 kgm at 1750-2750rpm    5.0  \n4     11.5@ 4,500(kgm@ rpm)    5.0  ",
      "text/html": "<div>\n<style scoped>\n    .dataframe tbody tr th:only-of-type {\n        vertical-align: middle;\n    }\n\n    .dataframe tbody tr th {\n        vertical-align: top;\n    }\n\n    .dataframe thead th {\n        text-align: right;\n    }\n</style>\n<table border=\"1\" class=\"dataframe\">\n  <thead>\n    <tr style=\"text-align: right;\">\n      <th></th>\n      <th>name</th>\n      <th>year</th>\n      <th>selling_price</th>\n      <th>km_driven</th>\n      <th>fuel</th>\n      <th>seller_type</th>\n      <th>transmission</th>\n      <th>owner</th>\n      <th>mileage</th>\n      <th>engine</th>\n      <th>max_power</th>\n      <th>torque</th>\n      <th>seats</th>\n    </tr>\n  </thead>\n  <tbody>\n    <tr>\n      <th>0</th>\n      <td>Maruti Swift Dzire VDI</td>\n      <td>2014</td>\n      <td>450000</td>\n      <td>145500</td>\n      <td>Diesel</td>\n      <td>Individual</td>\n      <td>Manual</td>\n      <td>First Owner</td>\n      <td>23.4 kmpl</td>\n      <td>1248 CC</td>\n      <td>74 bhp</td>\n      <td>190Nm@ 2000rpm</td>\n      <td>5.0</td>\n    </tr>\n    <tr>\n      <th>1</th>\n      <td>Skoda Rapid 1.5 TDI Ambition</td>\n      <td>2014</td>\n      <td>370000</td>\n      <td>120000</td>\n      <td>Diesel</td>\n      <td>Individual</td>\n      <td>Manual</td>\n      <td>Second Owner</td>\n      <td>21.14 kmpl</td>\n      <td>1498 CC</td>\n      <td>103.52 bhp</td>\n      <td>250Nm@ 1500-2500rpm</td>\n      <td>5.0</td>\n    </tr>\n    <tr>\n      <th>2</th>\n      <td>Honda City 2017-2020 EXi</td>\n      <td>2006</td>\n      <td>158000</td>\n      <td>140000</td>\n      <td>Petrol</td>\n      <td>Individual</td>\n      <td>Manual</td>\n      <td>Third Owner</td>\n      <td>17.7 kmpl</td>\n      <td>1497 CC</td>\n      <td>78 bhp</td>\n      <td>12.7@ 2,700(kgm@ rpm)</td>\n      <td>5.0</td>\n    </tr>\n    <tr>\n      <th>3</th>\n      <td>Hyundai i20 Sportz Diesel</td>\n      <td>2010</td>\n      <td>225000</td>\n      <td>127000</td>\n      <td>Diesel</td>\n      <td>Individual</td>\n      <td>Manual</td>\n      <td>First Owner</td>\n      <td>23.0 kmpl</td>\n      <td>1396 CC</td>\n      <td>90 bhp</td>\n      <td>22.4 kgm at 1750-2750rpm</td>\n      <td>5.0</td>\n    </tr>\n    <tr>\n      <th>4</th>\n      <td>Maruti Swift VXI BSIII</td>\n      <td>2007</td>\n      <td>130000</td>\n      <td>120000</td>\n      <td>Petrol</td>\n      <td>Individual</td>\n      <td>Manual</td>\n      <td>First Owner</td>\n      <td>16.1 kmpl</td>\n      <td>1298 CC</td>\n      <td>88.2 bhp</td>\n      <td>11.5@ 4,500(kgm@ rpm)</td>\n      <td>5.0</td>\n    </tr>\n  </tbody>\n</table>\n</div>"
     },
     "metadata": {},
     "output_type": "display_data"
    },
    {
     "name": "stdout",
     "output_type": "stream",
     "text": [
      "Categorical data: ['name', 'fuel', 'seller_type', 'transmission', 'owner', 'mileage', 'engine', 'max_power', 'torque']\n",
      "Numerical data: ['year', 'selling_price', 'km_driven', 'seats']\n"
     ]
    }
   ],
   "source": [
    "data = pd.read_csv('data/cars.csv')\n",
    "display(data.head())\n",
    "\n",
    "categorical_data = data.select_dtypes(include=['object'])\n",
    "numerical_data = data.select_dtypes(include=['int64', 'float64'])\n",
    "\n",
    "print(f\"Categorical data: {categorical_data.columns.tolist()}\\nNumerical data: {numerical_data.columns.tolist()}\")"
   ],
   "metadata": {
    "collapsed": false,
    "pycharm": {
     "name": "#%%\n"
    }
   }
  },
  {
   "cell_type": "markdown",
   "source": [
    "### Converting units\n",
    "\n",
    "Some categorical columns can be easily converted to numerical columns, like mileage '23.4 kmpl' can be converted to 23.4.\n",
    "But looking at the data, we can see that the mileage has two different units, 'kmpl' and 'km/kg', so we need to convert km/kg to kmpl.\n",
    "\n",
    "1Kg of petrol weighs roughly 0.740 kg, so we need to multiply the mileage by 1/0.740 to get the correct value."
   ],
   "metadata": {
    "collapsed": false,
    "pycharm": {
     "name": "#%% md\n"
    }
   }
  },
  {
   "cell_type": "code",
   "execution_count": 165,
   "outputs": [
    {
     "name": "stdout",
     "output_type": "stream",
     "text": [
      "[' kmpl', 'km/kg', nan]\n",
      "[' CC', nan]\n",
      "['bhp', nan, '0']\n"
     ]
    }
   ],
   "source": [
    "mileage_units = data['mileage'].str[-5:].unique()\n",
    "engine_size_units = data['engine'].str[-3:].unique()\n",
    "max_power_units = data['max_power'].str[-3:].unique()\n",
    "\n",
    "print(mileage_units.tolist())\n",
    "print(engine_size_units.tolist())\n",
    "print(max_power_units.tolist())"
   ],
   "metadata": {
    "collapsed": false,
    "pycharm": {
     "name": "#%%\n"
    }
   }
  },
  {
   "cell_type": "code",
   "execution_count": 166,
   "outputs": [
    {
     "data": {
      "text/plain": "                           name  year  selling_price  km_driven    fuel  \\\n0        Maruti Swift Dzire VDI  2014         450000     145500  Diesel   \n1  Skoda Rapid 1.5 TDI Ambition  2014         370000     120000  Diesel   \n2      Honda City 2017-2020 EXi  2006         158000     140000  Petrol   \n3     Hyundai i20 Sportz Diesel  2010         225000     127000  Diesel   \n4        Maruti Swift VXI BSIII  2007         130000     120000  Petrol   \n\n  seller_type transmission         owner                    torque  seats  \\\n0  Individual       Manual   First Owner            190Nm@ 2000rpm    5.0   \n1  Individual       Manual  Second Owner       250Nm@ 1500-2500rpm    5.0   \n2  Individual       Manual   Third Owner     12.7@ 2,700(kgm@ rpm)    5.0   \n3  Individual       Manual   First Owner  22.4 kgm at 1750-2750rpm    5.0   \n4  Individual       Manual   First Owner     11.5@ 4,500(kgm@ rpm)    5.0   \n\n   mileage (Km/l)  engine_size (CC) max_power (bhp)  \n0           23.40            1248.0            74.0  \n1           21.14            1498.0          103.52  \n2           17.70            1497.0            78.0  \n3           23.00            1396.0            90.0  \n4           16.10            1298.0            88.2  ",
      "text/html": "<div>\n<style scoped>\n    .dataframe tbody tr th:only-of-type {\n        vertical-align: middle;\n    }\n\n    .dataframe tbody tr th {\n        vertical-align: top;\n    }\n\n    .dataframe thead th {\n        text-align: right;\n    }\n</style>\n<table border=\"1\" class=\"dataframe\">\n  <thead>\n    <tr style=\"text-align: right;\">\n      <th></th>\n      <th>name</th>\n      <th>year</th>\n      <th>selling_price</th>\n      <th>km_driven</th>\n      <th>fuel</th>\n      <th>seller_type</th>\n      <th>transmission</th>\n      <th>owner</th>\n      <th>torque</th>\n      <th>seats</th>\n      <th>mileage (Km/l)</th>\n      <th>engine_size (CC)</th>\n      <th>max_power (bhp)</th>\n    </tr>\n  </thead>\n  <tbody>\n    <tr>\n      <th>0</th>\n      <td>Maruti Swift Dzire VDI</td>\n      <td>2014</td>\n      <td>450000</td>\n      <td>145500</td>\n      <td>Diesel</td>\n      <td>Individual</td>\n      <td>Manual</td>\n      <td>First Owner</td>\n      <td>190Nm@ 2000rpm</td>\n      <td>5.0</td>\n      <td>23.40</td>\n      <td>1248.0</td>\n      <td>74.0</td>\n    </tr>\n    <tr>\n      <th>1</th>\n      <td>Skoda Rapid 1.5 TDI Ambition</td>\n      <td>2014</td>\n      <td>370000</td>\n      <td>120000</td>\n      <td>Diesel</td>\n      <td>Individual</td>\n      <td>Manual</td>\n      <td>Second Owner</td>\n      <td>250Nm@ 1500-2500rpm</td>\n      <td>5.0</td>\n      <td>21.14</td>\n      <td>1498.0</td>\n      <td>103.52</td>\n    </tr>\n    <tr>\n      <th>2</th>\n      <td>Honda City 2017-2020 EXi</td>\n      <td>2006</td>\n      <td>158000</td>\n      <td>140000</td>\n      <td>Petrol</td>\n      <td>Individual</td>\n      <td>Manual</td>\n      <td>Third Owner</td>\n      <td>12.7@ 2,700(kgm@ rpm)</td>\n      <td>5.0</td>\n      <td>17.70</td>\n      <td>1497.0</td>\n      <td>78.0</td>\n    </tr>\n    <tr>\n      <th>3</th>\n      <td>Hyundai i20 Sportz Diesel</td>\n      <td>2010</td>\n      <td>225000</td>\n      <td>127000</td>\n      <td>Diesel</td>\n      <td>Individual</td>\n      <td>Manual</td>\n      <td>First Owner</td>\n      <td>22.4 kgm at 1750-2750rpm</td>\n      <td>5.0</td>\n      <td>23.00</td>\n      <td>1396.0</td>\n      <td>90.0</td>\n    </tr>\n    <tr>\n      <th>4</th>\n      <td>Maruti Swift VXI BSIII</td>\n      <td>2007</td>\n      <td>130000</td>\n      <td>120000</td>\n      <td>Petrol</td>\n      <td>Individual</td>\n      <td>Manual</td>\n      <td>First Owner</td>\n      <td>11.5@ 4,500(kgm@ rpm)</td>\n      <td>5.0</td>\n      <td>16.10</td>\n      <td>1298.0</td>\n      <td>88.2</td>\n    </tr>\n  </tbody>\n</table>\n</div>"
     },
     "execution_count": 166,
     "metadata": {},
     "output_type": "execute_result"
    }
   ],
   "source": [
    "# Converting km/kg to kmpl\n",
    "corrected_mileage = list()\n",
    "\n",
    "for i in data['mileage']:\n",
    "    if str(i).endswith('km/kg'):\n",
    "        mileage_whithout_unit = float(i.replace('km/kg', ''))\n",
    "        mileage_in_kmpl = mileage_whithout_unit * 1/0.740\n",
    "        corrected_mileage.append(mileage_in_kmpl)\n",
    "    elif str(i).endswith('kmpl'):\n",
    "        mileage_whithout_unit = float(i.replace('kmpl', ''))\n",
    "        corrected_mileage.append(mileage_whithout_unit)\n",
    "    else:\n",
    "        corrected_mileage.append(i)\n",
    "\n",
    "data['mileage (Km/l)'] = corrected_mileage\n",
    "data['mileage (Km/l)'].replace(0, np.nan, inplace=True)\n",
    "data.drop('mileage', axis=1, inplace=True)\n",
    "\n",
    "# Removing CC from engine\n",
    "data['engine_size (CC)'] = data['engine'].str.replace('CC', '').astype(float)\n",
    "data['engine_size (CC)'].replace(0, np.nan, inplace=True)\n",
    "data.drop('engine', axis=1, inplace=True)\n",
    "\n",
    "\n",
    "# Removing bhp from max_power\n",
    "corrected_max_power = list()\n",
    "for i in data['max_power']:\n",
    "    if str(i) == ' bhp':\n",
    "        corrected_max_power.append(np.nan)\n",
    "    elif str(i).endswith('bhp'):\n",
    "        max_power_whithout_unit = float(i.replace('bhp', ''))\n",
    "        corrected_max_power.append(max_power_whithout_unit)\n",
    "    else:\n",
    "        corrected_max_power.append(i)\n",
    "\n",
    "data['max_power (bhp)'] = corrected_max_power\n",
    "data['max_power (bhp)'].replace(0, np.nan, inplace=True)\n",
    "data.drop('max_power', axis=1, inplace=True)\n",
    "\n",
    "\n",
    "data.head()"
   ],
   "metadata": {
    "collapsed": false,
    "pycharm": {
     "name": "#%%\n"
    }
   }
  },
  {
   "cell_type": "code",
   "execution_count": 167,
   "outputs": [
    {
     "data": {
      "text/plain": "array(['190Nm@ 2000rpm', '250Nm@ 1500-2500rpm', '12.7@ 2,700(kgm@ rpm)',\n       '22.4 kgm at 1750-2750rpm', '11.5@ 4,500(kgm@ rpm)',\n       '113.75nm@ 4000rpm', '7.8@ 4,500(kgm@ rpm)', '59Nm@ 2500rpm',\n       '170Nm@ 1800-2400rpm', '160Nm@ 2000rpm', '248Nm@ 2250rpm',\n       '78Nm@ 4500rpm', nan, '84Nm@ 3500rpm', '115Nm@ 3500-3600rpm',\n       '200Nm@ 1750rpm', '62Nm@ 3000rpm', '219.7Nm@ 1500-2750rpm',\n       '114Nm@ 3500rpm', '115Nm@ 4000rpm', '69Nm@ 3500rpm',\n       '172.5Nm@ 1750rpm', '6.1kgm@ 3000rpm', '114.7Nm@ 4000rpm',\n       '60Nm@ 3500rpm', '90Nm@ 3500rpm', '151Nm@ 4850rpm',\n       '104Nm@ 4000rpm', '320Nm@ 1700-2700rpm', '250Nm@ 1750-2500rpm',\n       '145Nm@ 4600rpm', '146Nm@ 4800rpm', '343Nm@ 1400-3400rpm',\n       '200Nm@ 1400-3400rpm', '200Nm@ 1250-4000rpm',\n       '400Nm@ 2000-2500rpm', '138Nm@ 4400rpm', '360Nm@ 1200-3400rpm',\n       '200Nm@ 1200-3600rpm', '380Nm@ 1750-2500rpm', '173Nm@ 4000rpm',\n       '400Nm@ 1750-3000rpm', '400Nm@ 1400-2800rpm',\n       '200Nm@ 1750-3000rpm', '111.7Nm@ 4000rpm', '219.6Nm@ 1500-2750rpm',\n       '112Nm@ 4000rpm', '250Nm@ 1500-3000rpm', '130Nm@ 4000rpm',\n       '205Nm@ 1750-3250rpm', '280Nm@ 1350-4600rpm', '99.04Nm@ 4500rpm',\n       '77Nm@ 3500rpm', '110Nm@ 3750rpm', '153Nm@ 3800rpm',\n       '113.7Nm@ 4000rpm', '114Nm@ 4000rpm', '113Nm@ 4200rpm',\n       '101Nm@ 3000rpm', '290Nm@ 1800-2800rpm', '120Nm@ 4250rpm',\n       '250Nm@ 1500~4500rpm', '96 Nm at 3000 rpm', '360Nm@ 1750-2800rpm',\n       '135Nm@ 2500rpm', '259.8Nm@ 1900-2750rpm', '200Nm@ 1900rpm',\n       '259.9Nm@ 1900-2750rpm', '91Nm@ 4250rpm', '96.1Nm@ 3000rpm',\n       '109Nm@ 4500rpm', '400nm@ 1750-3000rpm', '202Nm@ 3600-5200rpm',\n       '430Nm@ 1750-2500rpm', '347Nm@ 4300rpm', '382nm@ 1750-2250rpm',\n       '620Nm@ 1600-2400rpm', '400Nm@ 1750-2500rpm', '250@ 1250-5000rpm',\n       '500Nm@ 1600-1800rpm', '250Nm@ 1600-3600rpm', '400Nm',\n       '550Nm@ 1750-2750rpm', '490Nm@ 1600rpm', '250 Nm at 2750 rpm',\n       '177.5Nm@ 4700rpm', '170Nm@ 1750-4000rpm', '300Nm@ 1200-4000rpm',\n       '300Nm@ 1200-1400rpm', '260Nm@ 1500-2750rpm', '213Nm@ 4500rpm',\n       '224Nm@ 4000rpm', '640Nm@ 1740rpm', '113Nm@ 4500rpm',\n       '95Nm@ 3000-4300rpm', '13.1kgm@ 4600rpm', '205Nm@ 1800-2800rpm',\n       '71Nm@ 3500rpm', '190Nm@ 1750-3000rpm', '146Nm at 4800 rpm',\n       '14.9 KGM at 3000 RPM', '115Nm@ 3200rpm', '117nm@ 4000rpm',\n       '320Nm@ 1500-3000rpm', '72Nm@ 4386rpm', '11.4 kgm at 4,000 rpm',\n       '140Nm@ 1500-4000rpm', '134Nm@ 4000rpm', '150Nm@ 4500rpm',\n       '340Nm@ 1800-3250rpm', '240Nm@ 1600-2800rpm',\n       '330Nm@ 1600-2800rpm', '12.5@ 3,500(kgm@ rpm)', '110Nm@ 4800rpm',\n       '111.8Nm@ 4000rpm', '11.8@ 3,200(kgm@ rpm)', '135.4Nm@ 2500rpm',\n       '300Nm@ 1750-2500rpm', '190.25nm@ 1750-2250rpm',\n       '140Nm@ 1800-3000rpm', '20.4@ 1400-3400(kgm@ rpm)',\n       '247Nm@ 1800-2000rpm', '223Nm@ 1600-2200rpm',\n       '180 Nm at 1440-1500rpm', '195Nm@ 1400-2200rpm',\n       '154.9Nm@ 4200rpm', '114.73Nm@ 4000rpm', '160Nm@ 1500-2750rpm',\n       '108Nm@ 4400rpm', '190.24nm@ 1750-2250rpm', '200Nm@ 2000-3500rpm',\n       '420Nm@ 1400-2600rpm', '100Nm@ 2700rpm', '51Nm@ 4000rpm',\n       '250Nm@ 1250-5300rpm', '132Nm@ 3000rpm', '350Nm@ 1500-2750rpm',\n       '218Nm@ 4200rpm', '14.9@ 3,000(kgm@ rpm)',\n       '24@ 1,900-2,750(kgm@ rpm)', '13.5@ 2,500(kgm@ rpm)',\n       '85Nm@ 3000rpm', '74.5Nm@ 4000rpm', '160Nm@ 1750rpm',\n       '180.4Nm@ 1750-2500rpm', '230Nm@ 1500-2500rpm',\n       '113.75Nm@ 4000rpm', '219.66nm@ 1500-2750rpm', '245Nm@ 1750rpm',\n       '360Nm@ 1400-3200rpm', '320Nm@ 2000rpm', '135 Nm at 2500  rpm ',\n       '24 KGM at 1900-2750 RPM', '190Nm@ 1750-2250rpm',\n       '204Nm@ 2000-2750rpm', '14.3@ 1,800-3,000(kgm@ rpm)',\n       '250nm@ 1500-2750rpm', '125Nm@ 2000rpm', '172Nm@ 4300rpm',\n       '150Nm@ 1750rpm', '102Nm@ 4000rpm', '85Nm@ 2500rpm',\n       '8.5@ 2,500(kgm@ rpm)', '180Nm@ 1440-1500rpm', '106.5Nm@ 4400rpm',\n       '108.5Nm@ 5000rpm', '350Nm@ 1750-2500rpm', '144.15nm@ 4500rpm',\n       '104Nm@ 4400rpm', '99Nm@ 4500rpm', '200Nm@ 2000rpm',\n       '280Nm@ 1800-2800rpm', '142.5Nm@ 1750rpm', '140Nm@ 4400rpm',\n       '115@ 2,500(kgm@ rpm)', '196Nm@ 5000rpm',\n       '260 Nm at 1800-2200 rpm', '9.8@ 3,000(kgm@ rpm)',\n       '209Nm@ 2000rpm', '135 Nm at 2500 rpm', '140Nm@ 4200rpm',\n       '220Nm at 1400-2600 rpm', '48Nm@ 3000rpm', '171Nm@ 1800rpm',\n       '277.5Nm@ 1700-2200rpm', '215Nm@ 3600rpm', '219.6Nm@ 1750-2750rpm',\n       '195Nm@ 1440-2200rpm', '13@ 2,500(kgm@ rpm)', '180Nm@ 2000rpm',\n       '200Nm@ 1400-2200rpm', '380Nm(38.7kgm)@ 2500rpm', '110Nm@ 4400rpm',\n       '72Nm@ 4388rpm', '263.7Nm@ 2500rpm', '320Nm@ 1600-2800rpm',\n       '25.5@ 1,500-3,000(kgm@ rpm)', '16.3@ 2,000(kgm@ rpm)',\n       '190 Nm at 1750 rpm ', '94.14Nm@ 3500rpm', '12@ 3,500(kgm@ rpm)',\n       '113Nm@ 5000rpm', '280Nm@ 2400-2800rpm', '96Nm@ 3500rpm',\n       '16@ 2,000(kgm@ rpm)', '320Nm@ 1750-3000rpm', '114.73nm@ 4000rpm',\n       '320Nm@ 1750-2500rpm', '138nm@ 4400rpm', '190Nm@ 1750rpm',\n       '789Nm@ 2250rpm', '259.87Nm@ 1900-2750rpm', '205Nm@ 1750rpm',\n       '436.39Nm@ 1800-2500rpm', '182.5Nm@ 1500-1800rpm',\n       '90.3Nm@ 4200rpm', '12.5@ 2,500(kgm@ rpm)', '215Nm@ 1750-3000rpm',\n       '215Nm@ 1750-3000', '305Nm@ 2000rpm', '540Nm@ 2000rpm',\n       '327Nm@ 2600rpm', '300Nm@ 1600-3000rpm', '620Nm@ 2000-2500rpm',\n       '450Nm@ 1600-2400rpm', '19@ 1,800(kgm@ rpm)',\n       '9.2@ 4,200(kgm@ rpm)', '145@ 4,100(kgm@ rpm)',\n       '51Nm@ 4000+/-500rpm', '110Nm@ 3000rpm', '148Nm@ 3500rpm',\n       '116Nm@ 4750rpm', '48@ 3,000+/-500(NM@ rpm)', '148Nm@ 4000rpm',\n       '222Nm@ 4300rpm', '135.3Nm@ 5000rpm', '98Nm@ 1600-3000rpm',\n       '170Nm@ 1400-4500rpm', '343Nm@ 1400-2800rpm',\n       '402Nm@ 1600-3000rpm', '113Nm@ 3300rpm', '99.07Nm@ 4500rpm',\n       '210nm@ 1600-2200rpm', '190 Nm at 1750  rpm ', '32.1kgm@ 2000rpm',\n       '224nm@ 1500-2750rpm', '400nm@ 1750-2500rpm',\n       '215Nm@ 1750-2500rpm', '25@ 1,800-2,800(kgm@ rpm)',\n       '197Nm@ 1750rpm', '136.3Nm@ 4200rpm', '470Nm@ 1750-2500rpm',\n       '11@ 3,000(kgm@ rpm)', '142Nm@ 4000rpm', '145Nm@ 4100rpm',\n       '320Nm@ 1500-2800rpm', '123Nm@ 1000-2500rpm',\n       '218Nm@ 1400-2600rpm', '510@ 1600-2400', '220Nm@ 1500-2750rpm',\n       '380Nm@ 2000rpm', '104Nm@ 3100rpm', '292Nm@ 2000rpm',\n       '20@ 3,750(kgm@ rpm)', '46.5@ 1,400-2,800(kgm@ rpm)',\n       '380Nm@ 2500rpm', '15@ 3,800(kgm@ rpm)', '136Nm@ 4250rpm',\n       '228Nm@ 4400rpm', '149Nm@ 4500rpm', '187Nm@ 2500rpm',\n       '146Nm@ 3400rpm', '8.6@ 3,500(kgm@ rpm)', '219.7Nm@ 1750-2750rpm',\n       '190Nm@ 2000-3000', '450Nm@ 2000rpm', '300Nm@ 2000rpm',\n       '230Nm@ 1800-2000rpm', '42@ 2,000(kgm@ rpm)',\n       '110Nm@ 3000-4300rpm', '110(11.2)@ 4800', '330Nm@ 1800rpm',\n       '225Nm@ 1500-2500rpm', '380Nm@ 1750-2750rpm',\n       '28.3@ 1,700-2,200(kgm@ rpm)', '259.88Nm@ 1900-2750rpm',\n       '580Nm@ 1400-3250rpm', '400 Nm /2000 rpm', '127Nm@ 3500rpm',\n       '300Nm@ 1500-2500rpm', '132.3Nm@ 4000rpm', '113nm@ 4400rpm',\n       '151NM@ 4850rpm', '153Nm@ 3750-3800rpm', '10.7@ 2,500(kgm@ rpm)',\n       '124.6Nm@ 3500rpm', '78Nm@ 3500rpm', '219.9Nm@ 1750-2750rpm',\n       '420.7Nm@ 1800-2500rpm', '130Nm@ 3000rpm', '424Nm@ 2000rpm',\n       '130@ 2500(kgm@ rpm)', '99.8Nm@ 2700rpm', '113Nm@ 4,500rpm',\n       '11.2@ 4,400(kgm@ rpm)', '240Nm@ 1850rpm', '16.1@ 4,200(kgm@ rpm)',\n       '320Nm@ 1750-2700rpm', '115Nm@ 4500rpm', '245Nm@ 4000rpm',\n       '321Nm@ 1600-2400rpm', '619Nm@ 1600-2400rpm',\n       '380Nm@ 1750-3000rpm', '560Nm@ 1500rpm', '230Nm@ 1500-2250rpm',\n       '90Nm@ 2650rpm', '260Nm@ 1800-2200rpm', '600Nm@ 2000rpm',\n       '259.87nm@ 1500-3000rpm', '16.6@ 4,500(kgm@ rpm)',\n       '219.66NM@ 1500-2750rpm', '12.5@ 3,000(kgm@ rpm)',\n       '620Nm@ 1500-2500rpm', '250Nm@ 1500-4500rpm',\n       '14.9@ 3,400(kgm@ rpm)', '25.5@ 1,900(kgm@ rpm)',\n       '33.7@ 1,800(kgm@ rpm)', '285Nm@ 2400-4000rpm',\n       '10.7@ 2,600(kgm@ rpm)', '250Nm@ 1000-2000rpm', '240Nm@ 1750rpm',\n       '226Nm@ 4400rpm', '510Nm@ 1600-2800rpm', '259.87NM@ 1500-3000rpm',\n       '155 Nm at 1600-2800 rpm', '240Nm@ 2000rpm', '103Nm@ 4500rpm',\n       '13.5@ 4,800(kgm@ rpm)', '400Nm@ 1750-2750rpm',\n       '175Nm@ 1500-4100rpm', '72.9Nm@ 2250rpm', '135.4Nm@ 2500',\n       '245Nm@ 5000rpm', '57Nm@ 2500rpm', '96Nm@ 2500rpm',\n       '215nm@ 1750-2500rpm', '10.4@ 3,200(kgm@ rpm)', '128Nm@ 3100rpm',\n       '102Nm@ 2600rpm', '131Nm@ 4400rpm', '11.4@ 4,000(kgm@ rpm)',\n       '250Nm@ 4250rpm', '343Nm@ 1600-2800rpm', '185Nm@ 1750-2750rpm',\n       '12@ 2500(kgm@ rpm)', '12.4@ 2,600(kgm@ rpm)', '170Nm@ 4200rpm',\n       '176Nm@ 1500rpm', '380NM@ 1800-2800rpm', '250Nm@ 1600-2000rpm',\n       '24.5@ 3,500-4,500(kgm@ rpm)', '22.9@ 1,950-4,700(kgm@ rpm)',\n       '113Nm@ 4400rpm', '121Nm@ 2800rpm', '210 / 1900',\n       '250Nm@ 1250-5000rpm', '400Nm@ 175-2750rpm', '350Nm@ 1500-3500rpm',\n       '175nm@ 1750-4000rpm', '115@ 2500(kgm@ rpm)', '110Nm@ 4500rpm',\n       '190Nm@ 2000-3000rpm', '106Nm@ 2200rpm',\n       '21.4@ 1,750-4,600(kgm@ rpm)', '96Nm@ 3000rpm',\n       '23.6@ 4,250(kgm@ rpm)', '11.3kgm@ 4700rpm', '450Nm@ 1750-2500rpm',\n       '35.7@ 1,750-3,000(kgm@ rpm)', '6@ 2,500(kgm@ rpm)',\n       '13.9 kgm at 4200 rpm', '320Nm@ 1400-4100rpm',\n       '150Nm@ 1700-4500rpm', '113.8Nm@ 4000rpm', '110@ 3,000(kgm@ rpm)',\n       '151Nm@ 2400rpm', '62Nm@ 2500rpm', '18@ 1,600-2,200(kgm@ rpm)',\n       '83Nm@ 3000rpm', '124.5Nm@ 3500rpm', '20@ 4,700(kgm@ rpm)',\n       '300Nm@ 1600-4000rpm', '171.6Nm@ 1500-4000rpm',\n       '21.4@ 1,900(kgm@ rpm)', '190@ 21,800(kgm@ rpm)',\n       '5.7@ 2,500(kgm@ rpm)', '88.4Nm@ 4200rpm',\n       '250 Nm at 1,500-3,000 rpm', '340nm@ 1750-3000rpm',\n       '36.6@ 1,750-2,500(kgm@ rpm)', '12.5kgm@ 3500rpm',\n       '6.1@ 3,000(kgm@ rpm)', '110Nm@ 4000rpm', '350nm@ 1800-2600rpm',\n       '175nm@ 1500-4100rpm', '4.8kgm@ 3000rpm', '355Nm@ 4500rpm',\n       '51@ 1,750-3,000(kgm@ rpm)', '119Nm@ 4250rpm',\n       '410Nm@ 1600-2800rpm', '174Nm@ 4300rpm', '99.1Nm@ 4500rpm',\n       '385Nm@ 1600-2500rpm', '180 Nm at 2000rpm', '190 Nm at 1750 rpm',\n       '53@ 2,000-2,750(kgm@ rpm)', '360Nm@ 1400-2600rpm',\n       '420Nm@ 2000rpm', '124Nm@ 3500rpm', '17.5@ 4,300(kgm@ rpm)',\n       '360Nm@ 2000rpm', '145Nm@ 3750rpm', '85Nm@ 3500rpm',\n       '190Nm@ 4200rpm', '190 Nm at 2000rpm', '13.5@ 2500(kgm@ rpm)',\n       '250nm@ 1500-3000rpm', '159.8Nm@ 1500-2750rpm', '500Nm@ 2000rpm',\n       '333Nm@ 1600-3200rpm', '400nm@ 2800rpm',\n       '33@ 2,000-2,680(kgm@ rpm)', '10.2@ 2,600(kgm@ rpm)', '480Nm',\n       '190Nm@ 4300rpm', '320Nm@ 1800-2800rpm', '380Nm@ 1750rpm',\n       '250.06nm@ 1500-2750rpm', '90nm@ 3500rpm', '190Nm@ 3700rpm',\n       '436.4Nm@ 1800-2500rpm', '96  Nm at 3000  rpm '], dtype=object)"
     },
     "execution_count": 167,
     "metadata": {},
     "output_type": "execute_result"
    }
   ],
   "source": [
    "data.torque.unique()"
   ],
   "metadata": {
    "collapsed": false,
    "pycharm": {
     "name": "#%%\n"
    }
   }
  },
  {
   "cell_type": "markdown",
   "source": [
    "As we can see, the torque column has a lot of different patterns, we can filter torque with a regex pattern, like:\n",
    "\n",
    "Nm regex:\n",
    "`(\\d+[\\.\\,]?\\d*)[Nn]m`\n",
    "\n",
    "Kgm regex:\n",
    "`(\\d+[\\.\\,]?\\d*)[Kk]gm`\n",
    "\n",
    "Different patterns:\n",
    "`\\([Kk][Gg][Mm]@\\srpm\\)` -> torque will be the first `(\\d+[\\.\\,]?\\d*)` match\n",
    "`\\([Nn][Mm]@\\srpm\\)` -> torque will be the first `(\\d+[\\.\\,]?\\d*)` match"
   ],
   "metadata": {
    "collapsed": false,
    "pycharm": {
     "name": "#%% md\n"
    }
   }
  },
  {
   "cell_type": "code",
   "execution_count": 168,
   "outputs": [
    {
     "data": {
      "text/plain": "                           name  year  selling_price  km_driven    fuel  \\\n0        Maruti Swift Dzire VDI  2014         450000     145500  Diesel   \n1  Skoda Rapid 1.5 TDI Ambition  2014         370000     120000  Diesel   \n2      Honda City 2017-2020 EXi  2006         158000     140000  Petrol   \n3     Hyundai i20 Sportz Diesel  2010         225000     127000  Diesel   \n4        Maruti Swift VXI BSIII  2007         130000     120000  Petrol   \n\n  seller_type transmission         owner  seats  mileage (Km/l)  \\\n0  Individual       Manual   First Owner    5.0           23.40   \n1  Individual       Manual  Second Owner    5.0           21.14   \n2  Individual       Manual   Third Owner    5.0           17.70   \n3  Individual       Manual   First Owner    5.0           23.00   \n4  Individual       Manual   First Owner    5.0           16.10   \n\n   engine_size (CC) max_power (bhp)  torque (Nm)  \n0            1248.0            74.0        190.0  \n1            1498.0          103.52        250.0  \n2            1497.0            78.0        124.5  \n3            1396.0            90.0        219.7  \n4            1298.0            88.2        112.8  ",
      "text/html": "<div>\n<style scoped>\n    .dataframe tbody tr th:only-of-type {\n        vertical-align: middle;\n    }\n\n    .dataframe tbody tr th {\n        vertical-align: top;\n    }\n\n    .dataframe thead th {\n        text-align: right;\n    }\n</style>\n<table border=\"1\" class=\"dataframe\">\n  <thead>\n    <tr style=\"text-align: right;\">\n      <th></th>\n      <th>name</th>\n      <th>year</th>\n      <th>selling_price</th>\n      <th>km_driven</th>\n      <th>fuel</th>\n      <th>seller_type</th>\n      <th>transmission</th>\n      <th>owner</th>\n      <th>seats</th>\n      <th>mileage (Km/l)</th>\n      <th>engine_size (CC)</th>\n      <th>max_power (bhp)</th>\n      <th>torque (Nm)</th>\n    </tr>\n  </thead>\n  <tbody>\n    <tr>\n      <th>0</th>\n      <td>Maruti Swift Dzire VDI</td>\n      <td>2014</td>\n      <td>450000</td>\n      <td>145500</td>\n      <td>Diesel</td>\n      <td>Individual</td>\n      <td>Manual</td>\n      <td>First Owner</td>\n      <td>5.0</td>\n      <td>23.40</td>\n      <td>1248.0</td>\n      <td>74.0</td>\n      <td>190.0</td>\n    </tr>\n    <tr>\n      <th>1</th>\n      <td>Skoda Rapid 1.5 TDI Ambition</td>\n      <td>2014</td>\n      <td>370000</td>\n      <td>120000</td>\n      <td>Diesel</td>\n      <td>Individual</td>\n      <td>Manual</td>\n      <td>Second Owner</td>\n      <td>5.0</td>\n      <td>21.14</td>\n      <td>1498.0</td>\n      <td>103.52</td>\n      <td>250.0</td>\n    </tr>\n    <tr>\n      <th>2</th>\n      <td>Honda City 2017-2020 EXi</td>\n      <td>2006</td>\n      <td>158000</td>\n      <td>140000</td>\n      <td>Petrol</td>\n      <td>Individual</td>\n      <td>Manual</td>\n      <td>Third Owner</td>\n      <td>5.0</td>\n      <td>17.70</td>\n      <td>1497.0</td>\n      <td>78.0</td>\n      <td>124.5</td>\n    </tr>\n    <tr>\n      <th>3</th>\n      <td>Hyundai i20 Sportz Diesel</td>\n      <td>2010</td>\n      <td>225000</td>\n      <td>127000</td>\n      <td>Diesel</td>\n      <td>Individual</td>\n      <td>Manual</td>\n      <td>First Owner</td>\n      <td>5.0</td>\n      <td>23.00</td>\n      <td>1396.0</td>\n      <td>90.0</td>\n      <td>219.7</td>\n    </tr>\n    <tr>\n      <th>4</th>\n      <td>Maruti Swift VXI BSIII</td>\n      <td>2007</td>\n      <td>130000</td>\n      <td>120000</td>\n      <td>Petrol</td>\n      <td>Individual</td>\n      <td>Manual</td>\n      <td>First Owner</td>\n      <td>5.0</td>\n      <td>16.10</td>\n      <td>1298.0</td>\n      <td>88.2</td>\n      <td>112.8</td>\n    </tr>\n  </tbody>\n</table>\n</div>"
     },
     "execution_count": 168,
     "metadata": {},
     "output_type": "execute_result"
    }
   ],
   "source": [
    "def kmg_to_nm(x: float):\n",
    "    return round(x * 9.80665, 1)\n",
    "\n",
    "def extract_first_number(x: str):\n",
    "    return float(re.match(r'(\\d+[\\.\\,]?\\d*)', x)[0])\n",
    "\n",
    "corrected_torque = list()\n",
    "for torque in data.torque:\n",
    "    if isinstance(torque, float):\n",
    "        corrected_torque.append(torque)\n",
    "\n",
    "    elif re.search(r'\\([Kk][Gg][Mm]@\\srpm\\)', torque):\n",
    "        torque_kgm = extract_first_number(torque)\n",
    "        torque_nm = kmg_to_nm(torque_kgm)\n",
    "        corrected_torque.append(torque_nm)\n",
    "\n",
    "    elif re.search(r'\\([Nn][Mm]@\\srpm\\)', torque):\n",
    "        torque_nm = extract_first_number(torque)\n",
    "        corrected_torque.append(torque_nm)\n",
    "\n",
    "    elif re.search(r'(\\d+[\\.\\,]?\\d*)\\s?[Nn]m', torque):\n",
    "        torque_nm = extract_first_number(torque)\n",
    "        corrected_torque.append(torque_nm)\n",
    "\n",
    "    elif re.search(r'(\\d+[\\.\\,]?\\d*)\\s?[Kk][Gg][Mm]', torque):\n",
    "        torque_kgm = extract_first_number(torque)\n",
    "        torque_nm = kmg_to_nm(torque_kgm)\n",
    "        corrected_torque.append(torque_nm)\n",
    "\n",
    "    elif re.search(r'(\\d+[\\.\\,]?\\d*)@', torque):\n",
    "        torque_nm = extract_first_number(torque)\n",
    "        corrected_torque.append(torque_nm)\n",
    "\n",
    "    else:\n",
    "        torque_nm = extract_first_number(torque)\n",
    "        corrected_torque.append(torque_nm)\n",
    "\n",
    "data['torque (Nm)'] = corrected_torque\n",
    "data['torque (Nm)'].astype(float)\n",
    "data['torque (Nm)'].replace(0, np.nan, inplace=True)\n",
    "data.drop('torque', axis=1, inplace=True)\n",
    "data.head()"
   ],
   "metadata": {
    "collapsed": false,
    "pycharm": {
     "name": "#%%\n"
    }
   }
  },
  {
   "cell_type": "code",
   "execution_count": 169,
   "outputs": [
    {
     "data": {
      "text/plain": "name                  0\nyear                  0\nselling_price         0\nkm_driven             0\nfuel                  0\nseller_type           0\ntransmission          0\nowner                 0\nseats               221\nmileage (Km/l)      238\nengine_size (CC)    221\nmax_power (bhp)     216\ntorque (Nm)         222\ndtype: int64"
     },
     "execution_count": 169,
     "metadata": {},
     "output_type": "execute_result"
    }
   ],
   "source": [
    "# Handling empty values\n",
    "data.isna().sum()"
   ],
   "metadata": {
    "collapsed": false,
    "pycharm": {
     "name": "#%%\n"
    }
   }
  },
  {
   "cell_type": "code",
   "execution_count": 177,
   "outputs": [
    {
     "data": {
      "text/plain": "          year  selling_price   km_driven    seats  mileage (Km/l)  \\\ncount  8128.00        8128.00     8128.00  7907.00         7890.00   \nmean   2013.80      638271.81    69819.51     5.42           19.55   \nstd       4.04      806253.40    56550.55     0.96            4.11   \nmin    1983.00       29999.00        1.00     2.00            9.00   \n25%    2011.00      254999.00    35000.00     5.00           16.80   \n50%    2015.00      450000.00    60000.00     5.00           19.33   \n75%    2017.00      675000.00    98000.00     5.00           22.36   \nmax    2020.00    10000000.00  2360457.00    14.00           45.19   \n\n       engine_size (CC)  torque (Nm)  \ncount           7907.00      7906.00  \nmean            1458.63       180.60  \nstd              503.92       109.25  \nmin              624.00        47.10  \n25%             1197.00       111.80  \n50%             1248.00       170.00  \n75%             1582.00       209.00  \nmax             3604.00      1863.30  ",
      "text/html": "<div>\n<style scoped>\n    .dataframe tbody tr th:only-of-type {\n        vertical-align: middle;\n    }\n\n    .dataframe tbody tr th {\n        vertical-align: top;\n    }\n\n    .dataframe thead th {\n        text-align: right;\n    }\n</style>\n<table border=\"1\" class=\"dataframe\">\n  <thead>\n    <tr style=\"text-align: right;\">\n      <th></th>\n      <th>year</th>\n      <th>selling_price</th>\n      <th>km_driven</th>\n      <th>seats</th>\n      <th>mileage (Km/l)</th>\n      <th>engine_size (CC)</th>\n      <th>torque (Nm)</th>\n    </tr>\n  </thead>\n  <tbody>\n    <tr>\n      <th>count</th>\n      <td>8128.00</td>\n      <td>8128.00</td>\n      <td>8128.00</td>\n      <td>7907.00</td>\n      <td>7890.00</td>\n      <td>7907.00</td>\n      <td>7906.00</td>\n    </tr>\n    <tr>\n      <th>mean</th>\n      <td>2013.80</td>\n      <td>638271.81</td>\n      <td>69819.51</td>\n      <td>5.42</td>\n      <td>19.55</td>\n      <td>1458.63</td>\n      <td>180.60</td>\n    </tr>\n    <tr>\n      <th>std</th>\n      <td>4.04</td>\n      <td>806253.40</td>\n      <td>56550.55</td>\n      <td>0.96</td>\n      <td>4.11</td>\n      <td>503.92</td>\n      <td>109.25</td>\n    </tr>\n    <tr>\n      <th>min</th>\n      <td>1983.00</td>\n      <td>29999.00</td>\n      <td>1.00</td>\n      <td>2.00</td>\n      <td>9.00</td>\n      <td>624.00</td>\n      <td>47.10</td>\n    </tr>\n    <tr>\n      <th>25%</th>\n      <td>2011.00</td>\n      <td>254999.00</td>\n      <td>35000.00</td>\n      <td>5.00</td>\n      <td>16.80</td>\n      <td>1197.00</td>\n      <td>111.80</td>\n    </tr>\n    <tr>\n      <th>50%</th>\n      <td>2015.00</td>\n      <td>450000.00</td>\n      <td>60000.00</td>\n      <td>5.00</td>\n      <td>19.33</td>\n      <td>1248.00</td>\n      <td>170.00</td>\n    </tr>\n    <tr>\n      <th>75%</th>\n      <td>2017.00</td>\n      <td>675000.00</td>\n      <td>98000.00</td>\n      <td>5.00</td>\n      <td>22.36</td>\n      <td>1582.00</td>\n      <td>209.00</td>\n    </tr>\n    <tr>\n      <th>max</th>\n      <td>2020.00</td>\n      <td>10000000.00</td>\n      <td>2360457.00</td>\n      <td>14.00</td>\n      <td>45.19</td>\n      <td>3604.00</td>\n      <td>1863.30</td>\n    </tr>\n  </tbody>\n</table>\n</div>"
     },
     "execution_count": 177,
     "metadata": {},
     "output_type": "execute_result"
    }
   ],
   "source": [
    "data.describe().round(2)"
   ],
   "metadata": {
    "collapsed": false,
    "pycharm": {
     "name": "#%%\n"
    }
   }
  },
  {
   "cell_type": "code",
   "execution_count": 179,
   "outputs": [
    {
     "data": {
      "text/plain": "                              name  year  selling_price  km_driven    fuel  \\\n0           Maruti Swift Dzire VDI  2014         450000     145500  Diesel   \n1     Skoda Rapid 1.5 TDI Ambition  2014         370000     120000  Diesel   \n2         Honda City 2017-2020 EXi  2006         158000     140000  Petrol   \n3        Hyundai i20 Sportz Diesel  2010         225000     127000  Diesel   \n4           Maruti Swift VXI BSIII  2007         130000     120000  Petrol   \n...                            ...   ...            ...        ...     ...   \n8123             Hyundai i20 Magna  2013         320000     110000  Petrol   \n8124         Hyundai Verna CRDi SX  2007         135000     119000  Diesel   \n8125        Maruti Swift Dzire ZDi  2009         382000     120000  Diesel   \n8126               Tata Indigo CR4  2013         290000      25000  Diesel   \n8127               Tata Indigo CR4  2013         290000      25000  Diesel   \n\n     seller_type transmission                 owner  seats  mileage (Km/l)  \\\n0     Individual       Manual           First Owner    5.0           23.40   \n1     Individual       Manual          Second Owner    5.0           21.14   \n2     Individual       Manual           Third Owner    5.0           17.70   \n3     Individual       Manual           First Owner    5.0           23.00   \n4     Individual       Manual           First Owner    5.0           16.10   \n...          ...          ...                   ...    ...             ...   \n8123  Individual       Manual           First Owner    5.0           18.50   \n8124  Individual       Manual  Fourth & Above Owner    5.0           16.80   \n8125  Individual       Manual           First Owner    5.0           19.30   \n8126  Individual       Manual           First Owner    5.0           23.57   \n8127  Individual       Manual           First Owner    5.0           23.57   \n\n      engine_size (CC) max_power (bhp)  torque (Nm)  \n0               1248.0            74.0        190.0  \n1               1498.0          103.52        250.0  \n2               1497.0            78.0        124.5  \n3               1396.0            90.0        219.7  \n4               1298.0            88.2        112.8  \n...                ...             ...          ...  \n8123            1197.0           82.85        113.7  \n8124            1493.0           110.0        235.4  \n8125            1248.0            73.9        190.0  \n8126            1396.0            70.0        140.0  \n8127            1396.0            70.0        140.0  \n\n[8128 rows x 13 columns]",
      "text/html": "<div>\n<style scoped>\n    .dataframe tbody tr th:only-of-type {\n        vertical-align: middle;\n    }\n\n    .dataframe tbody tr th {\n        vertical-align: top;\n    }\n\n    .dataframe thead th {\n        text-align: right;\n    }\n</style>\n<table border=\"1\" class=\"dataframe\">\n  <thead>\n    <tr style=\"text-align: right;\">\n      <th></th>\n      <th>name</th>\n      <th>year</th>\n      <th>selling_price</th>\n      <th>km_driven</th>\n      <th>fuel</th>\n      <th>seller_type</th>\n      <th>transmission</th>\n      <th>owner</th>\n      <th>seats</th>\n      <th>mileage (Km/l)</th>\n      <th>engine_size (CC)</th>\n      <th>max_power (bhp)</th>\n      <th>torque (Nm)</th>\n    </tr>\n  </thead>\n  <tbody>\n    <tr>\n      <th>0</th>\n      <td>Maruti Swift Dzire VDI</td>\n      <td>2014</td>\n      <td>450000</td>\n      <td>145500</td>\n      <td>Diesel</td>\n      <td>Individual</td>\n      <td>Manual</td>\n      <td>First Owner</td>\n      <td>5.0</td>\n      <td>23.40</td>\n      <td>1248.0</td>\n      <td>74.0</td>\n      <td>190.0</td>\n    </tr>\n    <tr>\n      <th>1</th>\n      <td>Skoda Rapid 1.5 TDI Ambition</td>\n      <td>2014</td>\n      <td>370000</td>\n      <td>120000</td>\n      <td>Diesel</td>\n      <td>Individual</td>\n      <td>Manual</td>\n      <td>Second Owner</td>\n      <td>5.0</td>\n      <td>21.14</td>\n      <td>1498.0</td>\n      <td>103.52</td>\n      <td>250.0</td>\n    </tr>\n    <tr>\n      <th>2</th>\n      <td>Honda City 2017-2020 EXi</td>\n      <td>2006</td>\n      <td>158000</td>\n      <td>140000</td>\n      <td>Petrol</td>\n      <td>Individual</td>\n      <td>Manual</td>\n      <td>Third Owner</td>\n      <td>5.0</td>\n      <td>17.70</td>\n      <td>1497.0</td>\n      <td>78.0</td>\n      <td>124.5</td>\n    </tr>\n    <tr>\n      <th>3</th>\n      <td>Hyundai i20 Sportz Diesel</td>\n      <td>2010</td>\n      <td>225000</td>\n      <td>127000</td>\n      <td>Diesel</td>\n      <td>Individual</td>\n      <td>Manual</td>\n      <td>First Owner</td>\n      <td>5.0</td>\n      <td>23.00</td>\n      <td>1396.0</td>\n      <td>90.0</td>\n      <td>219.7</td>\n    </tr>\n    <tr>\n      <th>4</th>\n      <td>Maruti Swift VXI BSIII</td>\n      <td>2007</td>\n      <td>130000</td>\n      <td>120000</td>\n      <td>Petrol</td>\n      <td>Individual</td>\n      <td>Manual</td>\n      <td>First Owner</td>\n      <td>5.0</td>\n      <td>16.10</td>\n      <td>1298.0</td>\n      <td>88.2</td>\n      <td>112.8</td>\n    </tr>\n    <tr>\n      <th>...</th>\n      <td>...</td>\n      <td>...</td>\n      <td>...</td>\n      <td>...</td>\n      <td>...</td>\n      <td>...</td>\n      <td>...</td>\n      <td>...</td>\n      <td>...</td>\n      <td>...</td>\n      <td>...</td>\n      <td>...</td>\n      <td>...</td>\n    </tr>\n    <tr>\n      <th>8123</th>\n      <td>Hyundai i20 Magna</td>\n      <td>2013</td>\n      <td>320000</td>\n      <td>110000</td>\n      <td>Petrol</td>\n      <td>Individual</td>\n      <td>Manual</td>\n      <td>First Owner</td>\n      <td>5.0</td>\n      <td>18.50</td>\n      <td>1197.0</td>\n      <td>82.85</td>\n      <td>113.7</td>\n    </tr>\n    <tr>\n      <th>8124</th>\n      <td>Hyundai Verna CRDi SX</td>\n      <td>2007</td>\n      <td>135000</td>\n      <td>119000</td>\n      <td>Diesel</td>\n      <td>Individual</td>\n      <td>Manual</td>\n      <td>Fourth &amp; Above Owner</td>\n      <td>5.0</td>\n      <td>16.80</td>\n      <td>1493.0</td>\n      <td>110.0</td>\n      <td>235.4</td>\n    </tr>\n    <tr>\n      <th>8125</th>\n      <td>Maruti Swift Dzire ZDi</td>\n      <td>2009</td>\n      <td>382000</td>\n      <td>120000</td>\n      <td>Diesel</td>\n      <td>Individual</td>\n      <td>Manual</td>\n      <td>First Owner</td>\n      <td>5.0</td>\n      <td>19.30</td>\n      <td>1248.0</td>\n      <td>73.9</td>\n      <td>190.0</td>\n    </tr>\n    <tr>\n      <th>8126</th>\n      <td>Tata Indigo CR4</td>\n      <td>2013</td>\n      <td>290000</td>\n      <td>25000</td>\n      <td>Diesel</td>\n      <td>Individual</td>\n      <td>Manual</td>\n      <td>First Owner</td>\n      <td>5.0</td>\n      <td>23.57</td>\n      <td>1396.0</td>\n      <td>70.0</td>\n      <td>140.0</td>\n    </tr>\n    <tr>\n      <th>8127</th>\n      <td>Tata Indigo CR4</td>\n      <td>2013</td>\n      <td>290000</td>\n      <td>25000</td>\n      <td>Diesel</td>\n      <td>Individual</td>\n      <td>Manual</td>\n      <td>First Owner</td>\n      <td>5.0</td>\n      <td>23.57</td>\n      <td>1396.0</td>\n      <td>70.0</td>\n      <td>140.0</td>\n    </tr>\n  </tbody>\n</table>\n<p>8128 rows × 13 columns</p>\n</div>"
     },
     "execution_count": 179,
     "metadata": {},
     "output_type": "execute_result"
    }
   ],
   "source": [
    "data"
   ],
   "metadata": {
    "collapsed": false,
    "pycharm": {
     "name": "#%%\n"
    }
   }
  },
  {
   "cell_type": "code",
   "execution_count": null,
   "outputs": [],
   "source": [],
   "metadata": {
    "collapsed": false,
    "pycharm": {
     "name": "#%%\n"
    }
   }
  }
 ],
 "metadata": {
  "kernelspec": {
   "display_name": "Python 3",
   "language": "python",
   "name": "python3"
  },
  "language_info": {
   "codemirror_mode": {
    "name": "ipython",
    "version": 2
   },
   "file_extension": ".py",
   "mimetype": "text/x-python",
   "name": "python",
   "nbconvert_exporter": "python",
   "pygments_lexer": "ipython2",
   "version": "2.7.6"
  }
 },
 "nbformat": 4,
 "nbformat_minor": 0
}